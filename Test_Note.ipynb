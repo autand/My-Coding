{
  "nbformat": 4,
  "nbformat_minor": 0,
  "metadata": {
    "colab": {
      "name": "Test Note",
      "provenance": [],
      "authorship_tag": "ABX9TyMJIQRZDQOeEoiJzrB8GfsF",
      "include_colab_link": true
    },
    "kernelspec": {
      "name": "python3",
      "display_name": "Python 3"
    },
    "language_info": {
      "name": "python"
    }
  },
  "cells": [
    {
      "cell_type": "markdown",
      "metadata": {
        "id": "view-in-github",
        "colab_type": "text"
      },
      "source": [
        "<a href=\"https://colab.research.google.com/github/autand/My-Coding/blob/main/Test_Note.ipynb\" target=\"_parent\"><img src=\"https://colab.research.google.com/assets/colab-badge.svg\" alt=\"Open In Colab\"/></a>"
      ]
    },
    {
      "cell_type": "code",
      "execution_count": null,
      "metadata": {
        "id": "5F0wxpv2GjT6"
      },
      "outputs": [],
      "source": [
        ""
      ]
    },
    {
      "cell_type": "markdown",
      "source": [
        "We can type any English here ^^\n",
        "Markdown syntax with formatting"
      ],
      "metadata": {
        "id": "HPqJS9QQHK8a"
      }
    },
    {
      "cell_type": "markdown",
      "source": [
        "## Heading level 2"
      ],
      "metadata": {
        "id": "gqD-48jXH6Xc"
      }
    },
    {
      "cell_type": "markdown",
      "source": [
        "\n",
        "# Heading\n",
        "\n",
        "...and after a heading."
      ],
      "metadata": {
        "id": "ygAM7z5cH8mQ"
      }
    },
    {
      "cell_type": "code",
      "source": [
        "# This is some example Python code\n",
        "# These lines starting with \"#\" are \"comments\"\n",
        "# Remember \"#\" means something different in Markdown than it does in Python\n",
        "\n",
        "print(\"HELLO WORLD!\")\n",
        "\n",
        "x = 2 + 2\n",
        "print(x)"
      ],
      "metadata": {
        "id": "1cvZDBcTIVIg"
      },
      "execution_count": null,
      "outputs": []
    }
  ]
}